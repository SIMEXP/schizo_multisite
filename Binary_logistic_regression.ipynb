{
 "cells": [
  {
   "cell_type": "markdown",
   "metadata": {},
   "source": [
    "**Stats**"
   ]
  },
  {
   "cell_type": "code",
   "execution_count": 5,
   "metadata": {
    "collapsed": false
   },
   "outputs": [
    {
     "data": {
      "text/html": [
       "<ol class=list-inline>\n",
       "\t<li>'X'</li>\n",
       "\t<li>'scennumb'</li>\n",
       "\t<li>'nsites_train'</li>\n",
       "\t<li>'intra'</li>\n",
       "\t<li>'select'</li>\n",
       "\t<li>'regression'</li>\n",
       "\t<li>'idtrain'</li>\n",
       "\t<li>'idtest'</li>\n",
       "\t<li>'hm'</li>\n",
       "\t<li>'y_ref'</li>\n",
       "\t<li>'y_pred'</li>\n",
       "\t<li>'TP'</li>\n",
       "\t<li>'TN'</li>\n",
       "\t<li>'weights'</li>\n",
       "</ol>\n"
      ],
      "text/latex": [
       "\\begin{enumerate*}\n",
       "\\item 'X'\n",
       "\\item 'scennumb'\n",
       "\\item 'nsites\\_train'\n",
       "\\item 'intra'\n",
       "\\item 'select'\n",
       "\\item 'regression'\n",
       "\\item 'idtrain'\n",
       "\\item 'idtest'\n",
       "\\item 'hm'\n",
       "\\item 'y\\_ref'\n",
       "\\item 'y\\_pred'\n",
       "\\item 'TP'\n",
       "\\item 'TN'\n",
       "\\item 'weights'\n",
       "\\end{enumerate*}\n"
      ],
      "text/markdown": [
       "1. 'X'\n",
       "2. 'scennumb'\n",
       "3. 'nsites_train'\n",
       "4. 'intra'\n",
       "5. 'select'\n",
       "6. 'regression'\n",
       "7. 'idtrain'\n",
       "8. 'idtest'\n",
       "9. 'hm'\n",
       "10. 'y_ref'\n",
       "11. 'y_pred'\n",
       "12. 'TP'\n",
       "13. 'TN'\n",
       "14. 'weights'\n",
       "\n",
       "\n"
      ],
      "text/plain": [
       " [1] \"X\"            \"scennumb\"     \"nsites_train\" \"intra\"        \"select\"      \n",
       " [6] \"regression\"   \"idtrain\"      \"idtest\"       \"hm\"           \"y_ref\"       \n",
       "[11] \"y_pred\"       \"TP\"           \"TN\"           \"weights\"     "
      ]
     },
     "metadata": {},
     "output_type": "display_data"
    }
   ],
   "source": [
    "library(foreign,quietly = TRUE, warn.conflicts = FALSE)\n",
    "data = read.csv('/Users/pyeror/Work/transfert/Schizo/results/prediction/20170328/summary_results_r1_20170328.csv')\n",
    "names(data)"
   ]
  },
  {
   "cell_type": "markdown",
   "metadata": {},
   "source": [
    "***Compute weights***"
   ]
  },
  {
   "cell_type": "code",
   "execution_count": 1,
   "metadata": {
    "collapsed": false
   },
   "outputs": [
    {
     "ename": "ERROR",
     "evalue": "Error in data$idtest: object of type 'closure' is not subsettable\n",
     "output_type": "error",
     "traceback": [
      "Error in data$idtest: object of type 'closure' is not subsettable\nTraceback:\n",
      "1. ave(data$idtest, data$idtest, FUN = length)",
      "2. interaction(...)"
     ]
    }
   ],
   "source": [
    "data$nsite = ave(data$idtest,data$idtest,FUN = length) \n",
    "data$weight = 1/data$nsite\n",
    "data$weight.norm = dim(data)[1]*data$weight/sum(data$weight)"
   ]
  },
  {
   "cell_type": "markdown",
   "metadata": {},
   "source": [
    "***Main effects for each scenario***\n",
    "\n",
    "Note because of weightning, I specify a quasibinomial (instead of binomial) to deal with non-integers."
   ]
  },
  {
   "cell_type": "code",
   "execution_count": 27,
   "metadata": {
    "collapsed": false
   },
   "outputs": [
    {
     "data": {
      "text/plain": [
       "\n",
       "Call:\n",
       "glm(formula = hm ~ nsites_train, family = quasibinomial, data = data, \n",
       "    weights = data$weight.norm, subset = data$intra == 1 & data$select == \n",
       "        1 & data$regression == 1)\n",
       "\n",
       "Deviance Residuals: \n",
       "    Min       1Q   Median       3Q      Max  \n",
       "-2.0624  -1.3089   0.7106   0.9057   1.1251  \n",
       "\n",
       "Coefficients:\n",
       "             Estimate Std. Error t value Pr(>|t|)    \n",
       "(Intercept)   0.82284    0.17880   4.602 4.47e-06 ***\n",
       "nsites_train  0.01170    0.07332   0.160    0.873    \n",
       "---\n",
       "Signif. codes:  0 ‘***’ 0.001 ‘**’ 0.01 ‘*’ 0.05 ‘.’ 0.1 ‘ ’ 1\n",
       "\n",
       "(Dispersion parameter for quasibinomial family taken to be 1.00718)\n",
       "\n",
       "    Null deviance: 2227.8  on 1813  degrees of freedom\n",
       "Residual deviance: 2227.8  on 1812  degrees of freedom\n",
       "AIC: NA\n",
       "\n",
       "Number of Fisher Scoring iterations: 4\n"
      ]
     },
     "metadata": {},
     "output_type": "display_data"
    },
    {
     "data": {
      "text/html": [
       "<dl class=dl-horizontal>\n",
       "\t<dt>(Intercept)</dt>\n",
       "\t\t<dd>2.27696059110577</dd>\n",
       "\t<dt>nsites_train</dt>\n",
       "\t\t<dd>1.01176888670427</dd>\n",
       "</dl>\n"
      ],
      "text/latex": [
       "\\begin{description*}\n",
       "\\item[(Intercept)] 2.27696059110577\n",
       "\\item[nsites\\textbackslash{}\\_train] 1.01176888670427\n",
       "\\end{description*}\n"
      ],
      "text/markdown": [
       "(Intercept)\n",
       ":   2.27696059110577nsites_train\n",
       ":   1.01176888670427\n",
       "\n"
      ],
      "text/plain": [
       " (Intercept) nsites_train \n",
       "    2.276961     1.011769 "
      ]
     },
     "metadata": {},
     "output_type": "display_data"
    },
    {
     "name": "stderr",
     "output_type": "stream",
     "text": [
      "Waiting for profiling to be done...\n"
     ]
    },
    {
     "data": {
      "text/html": [
       "<table>\n",
       "<thead><tr><th></th><th scope=col>2.5 %</th><th scope=col>97.5 %</th></tr></thead>\n",
       "<tbody>\n",
       "\t<tr><th scope=row>(Intercept)</th><td>1.608403</td><td>3.243138</td></tr>\n",
       "\t<tr><th scope=row>nsites_train</th><td>0.875810</td><td>1.167586</td></tr>\n",
       "</tbody>\n",
       "</table>\n"
      ],
      "text/latex": [
       "\\begin{tabular}{r|ll}\n",
       "  & 2.5 \\% & 97.5 \\%\\\\\n",
       "\\hline\n",
       "\t(Intercept) & 1.608403 & 3.243138\\\\\n",
       "\tnsites\\_train & 0.875810 & 1.167586\\\\\n",
       "\\end{tabular}\n"
      ],
      "text/markdown": [
       "\n",
       "| <!--/--> | 2.5 % | 97.5 % | \n",
       "|---|---|\n",
       "| (Intercept) | 1.608403 | 3.243138 | \n",
       "| nsites_train | 0.875810 | 1.167586 | \n",
       "\n",
       "\n"
      ],
      "text/plain": [
       "             2.5 %    97.5 %  \n",
       "(Intercept)  1.608403 3.243138\n",
       "nsites_train 0.875810 1.167586"
      ]
     },
     "metadata": {},
     "output_type": "display_data"
    }
   ],
   "source": [
    "# Intra - Select - Regress\n",
    "\n",
    "glm111 = glm(hm~nsites_train, \n",
    "           family = quasibinomial,\n",
    "           data = data,\n",
    "           subset = data$intra == 1 & data$select == 1 & data$regression == 1, \n",
    "           weights = data$weight.norm)\n",
    "\n",
    "summary(glm111)\n",
    "exp(coefficients(glm111)) # odds ratio\n",
    "exp(confint(glm111))"
   ]
  },
  {
   "cell_type": "code",
   "execution_count": 28,
   "metadata": {
    "collapsed": false
   },
   "outputs": [
    {
     "data": {
      "text/plain": [
       "\n",
       "Call:\n",
       "glm(formula = hm ~ nsites_train, family = quasibinomial, data = data, \n",
       "    weights = data$weight.norm, subset = data$intra == 0 & data$select == \n",
       "        1 & data$regression == 1)\n",
       "\n",
       "Deviance Residuals: \n",
       "    Min       1Q   Median       3Q      Max  \n",
       "-2.0698  -1.2550   0.7786   0.8845   1.2592  \n",
       "\n",
       "Coefficients:\n",
       "             Estimate Std. Error t value Pr(>|t|)   \n",
       "(Intercept)   0.40596    0.13552   2.996  0.00278 **\n",
       "nsites_train  0.15477    0.07422   2.085  0.03719 * \n",
       "---\n",
       "Signif. codes:  0 ‘***’ 0.001 ‘**’ 0.01 ‘*’ 0.05 ‘.’ 0.1 ‘ ’ 1\n",
       "\n",
       "(Dispersion parameter for quasibinomial family taken to be 0.9990699)\n",
       "\n",
       "    Null deviance: 2164.1  on 1693  degrees of freedom\n",
       "Residual deviance: 2159.7  on 1692  degrees of freedom\n",
       "AIC: NA\n",
       "\n",
       "Number of Fisher Scoring iterations: 4\n"
      ]
     },
     "metadata": {},
     "output_type": "display_data"
    },
    {
     "data": {
      "text/html": [
       "<dl class=dl-horizontal>\n",
       "\t<dt>(Intercept)</dt>\n",
       "\t\t<dd>1.50074249258714</dd>\n",
       "\t<dt>nsites_train</dt>\n",
       "\t\t<dd>1.16739162179575</dd>\n",
       "</dl>\n"
      ],
      "text/latex": [
       "\\begin{description*}\n",
       "\\item[(Intercept)] 1.50074249258714\n",
       "\\item[nsites\\textbackslash{}\\_train] 1.16739162179575\n",
       "\\end{description*}\n"
      ],
      "text/markdown": [
       "(Intercept)\n",
       ":   1.50074249258714nsites_train\n",
       ":   1.16739162179575\n",
       "\n"
      ],
      "text/plain": [
       " (Intercept) nsites_train \n",
       "    1.500742     1.167392 "
      ]
     },
     "metadata": {},
     "output_type": "display_data"
    },
    {
     "name": "stderr",
     "output_type": "stream",
     "text": [
      "Waiting for profiling to be done...\n"
     ]
    },
    {
     "data": {
      "text/html": [
       "<table>\n",
       "<thead><tr><th></th><th scope=col>2.5 %</th><th scope=col>97.5 %</th></tr></thead>\n",
       "<tbody>\n",
       "\t<tr><th scope=row>(Intercept)</th><td>1.151210</td><td>1.958607</td></tr>\n",
       "\t<tr><th scope=row>nsites_train</th><td>1.009926</td><td>1.351144</td></tr>\n",
       "</tbody>\n",
       "</table>\n"
      ],
      "text/latex": [
       "\\begin{tabular}{r|ll}\n",
       "  & 2.5 \\% & 97.5 \\%\\\\\n",
       "\\hline\n",
       "\t(Intercept) & 1.151210 & 1.958607\\\\\n",
       "\tnsites\\_train & 1.009926 & 1.351144\\\\\n",
       "\\end{tabular}\n"
      ],
      "text/markdown": [
       "\n",
       "| <!--/--> | 2.5 % | 97.5 % | \n",
       "|---|---|\n",
       "| (Intercept) | 1.151210 | 1.958607 | \n",
       "| nsites_train | 1.009926 | 1.351144 | \n",
       "\n",
       "\n"
      ],
      "text/plain": [
       "             2.5 %    97.5 %  \n",
       "(Intercept)  1.151210 1.958607\n",
       "nsites_train 1.009926 1.351144"
      ]
     },
     "metadata": {},
     "output_type": "display_data"
    }
   ],
   "source": [
    "# Inter - Select - Regress\n",
    "\n",
    "glm011 = glm(hm~nsites_train, \n",
    "           family = quasibinomial,\n",
    "           data = data,\n",
    "           subset = data$intra == 0 & data$select == 1 & data$regression == 1, \n",
    "           weights = data$weight.norm)\n",
    "\n",
    "summary(glm011)\n",
    "exp(coefficients(glm011)) # odds ratio\n",
    "exp(confint(glm011))"
   ]
  },
  {
   "cell_type": "code",
   "execution_count": 29,
   "metadata": {
    "collapsed": false
   },
   "outputs": [
    {
     "data": {
      "text/plain": [
       "\n",
       "Call:\n",
       "glm(formula = hm ~ nsites_train, family = quasibinomial, data = data, \n",
       "    weights = data$weight.norm, subset = data$intra == 1 & data$select == \n",
       "        1 & data$regression == 0)\n",
       "\n",
       "Deviance Residuals: \n",
       "    Min       1Q   Median       3Q      Max  \n",
       "-2.0238  -1.2845   0.7438   0.9305   1.1998  \n",
       "\n",
       "Coefficients:\n",
       "             Estimate Std. Error t value Pr(>|t|)    \n",
       "(Intercept)   0.62288    0.17464   3.567 0.000371 ***\n",
       "nsites_train  0.05684    0.07181   0.791 0.428773    \n",
       "---\n",
       "Signif. codes:  0 ‘***’ 0.001 ‘**’ 0.01 ‘*’ 0.05 ‘.’ 0.1 ‘ ’ 1\n",
       "\n",
       "(Dispersion parameter for quasibinomial family taken to be 1.007171)\n",
       "\n",
       "    Null deviance: 2287.0  on 1813  degrees of freedom\n",
       "Residual deviance: 2286.4  on 1812  degrees of freedom\n",
       "AIC: NA\n",
       "\n",
       "Number of Fisher Scoring iterations: 4\n"
      ]
     },
     "metadata": {},
     "output_type": "display_data"
    },
    {
     "data": {
      "text/html": [
       "<dl class=dl-horizontal>\n",
       "\t<dt>(Intercept)</dt>\n",
       "\t\t<dd>1.86429390602551</dd>\n",
       "\t<dt>nsites_train</dt>\n",
       "\t\t<dd>1.05848131988249</dd>\n",
       "</dl>\n"
      ],
      "text/latex": [
       "\\begin{description*}\n",
       "\\item[(Intercept)] 1.86429390602551\n",
       "\\item[nsites\\textbackslash{}\\_train] 1.05848131988249\n",
       "\\end{description*}\n"
      ],
      "text/markdown": [
       "(Intercept)\n",
       ":   1.86429390602551nsites_train\n",
       ":   1.05848131988249\n",
       "\n"
      ],
      "text/plain": [
       " (Intercept) nsites_train \n",
       "    1.864294     1.058481 "
      ]
     },
     "metadata": {},
     "output_type": "display_data"
    },
    {
     "name": "stderr",
     "output_type": "stream",
     "text": [
      "Waiting for profiling to be done...\n"
     ]
    },
    {
     "data": {
      "text/html": [
       "<table>\n",
       "<thead><tr><th></th><th scope=col>2.5 %</th><th scope=col>97.5 %</th></tr></thead>\n",
       "<tbody>\n",
       "\t<tr><th scope=row>(Intercept)</th><td>1.3268495</td><td>2.632046 </td></tr>\n",
       "\t<tr><th scope=row>nsites_train</th><td>0.9191082</td><td>1.218068 </td></tr>\n",
       "</tbody>\n",
       "</table>\n"
      ],
      "text/latex": [
       "\\begin{tabular}{r|ll}\n",
       "  & 2.5 \\% & 97.5 \\%\\\\\n",
       "\\hline\n",
       "\t(Intercept) & 1.3268495 & 2.632046 \\\\\n",
       "\tnsites\\_train & 0.9191082 & 1.218068 \\\\\n",
       "\\end{tabular}\n"
      ],
      "text/markdown": [
       "\n",
       "| <!--/--> | 2.5 % | 97.5 % | \n",
       "|---|---|\n",
       "| (Intercept) | 1.3268495 | 2.632046  | \n",
       "| nsites_train | 0.9191082 | 1.218068  | \n",
       "\n",
       "\n"
      ],
      "text/plain": [
       "             2.5 %     97.5 %  \n",
       "(Intercept)  1.3268495 2.632046\n",
       "nsites_train 0.9191082 1.218068"
      ]
     },
     "metadata": {},
     "output_type": "display_data"
    }
   ],
   "source": [
    "# Intra - Select - No Regress\n",
    "\n",
    "glm110 = glm(hm~nsites_train, \n",
    "           family = quasibinomial,\n",
    "           data = data,\n",
    "           subset = data$intra == 1 & data$select == 1 & data$regression == 0, \n",
    "           weights = data$weight.norm)\n",
    "\n",
    "summary(glm110)\n",
    "exp(coefficients(glm110)) # odds ratio\n",
    "exp(confint(glm110))"
   ]
  },
  {
   "cell_type": "code",
   "execution_count": 30,
   "metadata": {
    "collapsed": false
   },
   "outputs": [
    {
     "data": {
      "text/plain": [
       "\n",
       "Call:\n",
       "glm(formula = hm ~ nsites_train, family = quasibinomial, data = data, \n",
       "    weights = data$weight.norm, subset = data$intra == 0 & data$select == \n",
       "        1 & data$regression == 0)\n",
       "\n",
       "Deviance Residuals: \n",
       "    Min       1Q   Median       3Q      Max  \n",
       "-1.9912  -1.2637   0.8130   0.8998   1.2810  \n",
       "\n",
       "Coefficients:\n",
       "             Estimate Std. Error t value Pr(>|t|)   \n",
       "(Intercept)   0.40769    0.13410    3.04   0.0024 **\n",
       "nsites_train  0.11033    0.07307    1.51   0.1312   \n",
       "---\n",
       "Signif. codes:  0 ‘***’ 0.001 ‘**’ 0.01 ‘*’ 0.05 ‘.’ 0.1 ‘ ’ 1\n",
       "\n",
       "(Dispersion parameter for quasibinomial family taken to be 0.9990569)\n",
       "\n",
       "    Null deviance: 2199.6  on 1693  degrees of freedom\n",
       "Residual deviance: 2197.3  on 1692  degrees of freedom\n",
       "AIC: NA\n",
       "\n",
       "Number of Fisher Scoring iterations: 4\n"
      ]
     },
     "metadata": {},
     "output_type": "display_data"
    },
    {
     "data": {
      "text/html": [
       "<dl class=dl-horizontal>\n",
       "\t<dt>(Intercept)</dt>\n",
       "\t\t<dd>1.50333363351006</dd>\n",
       "\t<dt>nsites_train</dt>\n",
       "\t\t<dd>1.11665148152113</dd>\n",
       "</dl>\n"
      ],
      "text/latex": [
       "\\begin{description*}\n",
       "\\item[(Intercept)] 1.50333363351006\n",
       "\\item[nsites\\textbackslash{}\\_train] 1.11665148152113\n",
       "\\end{description*}\n"
      ],
      "text/markdown": [
       "(Intercept)\n",
       ":   1.50333363351006nsites_train\n",
       ":   1.11665148152113\n",
       "\n"
      ],
      "text/plain": [
       " (Intercept) nsites_train \n",
       "    1.503334     1.116651 "
      ]
     },
     "metadata": {},
     "output_type": "display_data"
    },
    {
     "name": "stderr",
     "output_type": "stream",
     "text": [
      "Waiting for profiling to be done...\n"
     ]
    },
    {
     "data": {
      "text/html": [
       "<table>\n",
       "<thead><tr><th></th><th scope=col>2.5 %</th><th scope=col>97.5 %</th></tr></thead>\n",
       "<tbody>\n",
       "\t<tr><th scope=row>(Intercept)</th><td>1.1564070</td><td>1.956546 </td></tr>\n",
       "\t<tr><th scope=row>nsites_train</th><td>0.9680875</td><td>1.289331 </td></tr>\n",
       "</tbody>\n",
       "</table>\n"
      ],
      "text/latex": [
       "\\begin{tabular}{r|ll}\n",
       "  & 2.5 \\% & 97.5 \\%\\\\\n",
       "\\hline\n",
       "\t(Intercept) & 1.1564070 & 1.956546 \\\\\n",
       "\tnsites\\_train & 0.9680875 & 1.289331 \\\\\n",
       "\\end{tabular}\n"
      ],
      "text/markdown": [
       "\n",
       "| <!--/--> | 2.5 % | 97.5 % | \n",
       "|---|---|\n",
       "| (Intercept) | 1.1564070 | 1.956546  | \n",
       "| nsites_train | 0.9680875 | 1.289331  | \n",
       "\n",
       "\n"
      ],
      "text/plain": [
       "             2.5 %     97.5 %  \n",
       "(Intercept)  1.1564070 1.956546\n",
       "nsites_train 0.9680875 1.289331"
      ]
     },
     "metadata": {},
     "output_type": "display_data"
    }
   ],
   "source": [
    "# Inter - Select - No Regress\n",
    "\n",
    "glm010 = glm(hm~nsites_train, \n",
    "           family = quasibinomial,\n",
    "           data = data,\n",
    "           subset = data$intra == 0 & data$select == 1 & data$regression == 0, \n",
    "           weights = data$weight.norm)\n",
    "\n",
    "summary(glm010)\n",
    "exp(coefficients(glm010)) # odds ratio\n",
    "exp(confint(glm010))"
   ]
  },
  {
   "cell_type": "code",
   "execution_count": 31,
   "metadata": {
    "collapsed": false
   },
   "outputs": [
    {
     "data": {
      "text/plain": [
       "\n",
       "Call:\n",
       "glm(formula = hm ~ nsites_train, family = quasibinomial, data = data, \n",
       "    weights = data$weight.norm, subset = data$intra == 1 & data$select == \n",
       "        0 & data$regression == 1)\n",
       "\n",
       "Deviance Residuals: \n",
       "    Min       1Q   Median       3Q      Max  \n",
       "-2.2198  -1.3561   0.6991   0.8090   1.1210  \n",
       "\n",
       "Coefficients:\n",
       "             Estimate Std. Error t value Pr(>|t|)    \n",
       "(Intercept)   0.70434    0.18443   3.819 0.000139 ***\n",
       "nsites_train  0.13897    0.07808   1.780 0.075291 .  \n",
       "---\n",
       "Signif. codes:  0 ‘***’ 0.001 ‘**’ 0.01 ‘*’ 0.05 ‘.’ 0.1 ‘ ’ 1\n",
       "\n",
       "(Dispersion parameter for quasibinomial family taken to be 0.9990648)\n",
       "\n",
       "    Null deviance: 1955.0  on 1693  degrees of freedom\n",
       "Residual deviance: 1951.9  on 1692  degrees of freedom\n",
       "AIC: NA\n",
       "\n",
       "Number of Fisher Scoring iterations: 4\n"
      ]
     },
     "metadata": {},
     "output_type": "display_data"
    },
    {
     "data": {
      "text/html": [
       "<dl class=dl-horizontal>\n",
       "\t<dt>(Intercept)</dt>\n",
       "\t\t<dd>2.02251385939952</dd>\n",
       "\t<dt>nsites_train</dt>\n",
       "\t\t<dd>1.14908845570241</dd>\n",
       "</dl>\n"
      ],
      "text/latex": [
       "\\begin{description*}\n",
       "\\item[(Intercept)] 2.02251385939952\n",
       "\\item[nsites\\textbackslash{}\\_train] 1.14908845570241\n",
       "\\end{description*}\n"
      ],
      "text/markdown": [
       "(Intercept)\n",
       ":   2.02251385939952nsites_train\n",
       ":   1.14908845570241\n",
       "\n"
      ],
      "text/plain": [
       " (Intercept) nsites_train \n",
       "    2.022514     1.149088 "
      ]
     },
     "metadata": {},
     "output_type": "display_data"
    },
    {
     "name": "stderr",
     "output_type": "stream",
     "text": [
      "Waiting for profiling to be done...\n"
     ]
    },
    {
     "data": {
      "text/html": [
       "<table>\n",
       "<thead><tr><th></th><th scope=col>2.5 %</th><th scope=col>97.5 %</th></tr></thead>\n",
       "<tbody>\n",
       "\t<tr><th scope=row>(Intercept)</th><td>1.412933</td><td>2.912748</td></tr>\n",
       "\t<tr><th scope=row>nsites_train</th><td>0.985652</td><td>1.338818</td></tr>\n",
       "</tbody>\n",
       "</table>\n"
      ],
      "text/latex": [
       "\\begin{tabular}{r|ll}\n",
       "  & 2.5 \\% & 97.5 \\%\\\\\n",
       "\\hline\n",
       "\t(Intercept) & 1.412933 & 2.912748\\\\\n",
       "\tnsites\\_train & 0.985652 & 1.338818\\\\\n",
       "\\end{tabular}\n"
      ],
      "text/markdown": [
       "\n",
       "| <!--/--> | 2.5 % | 97.5 % | \n",
       "|---|---|\n",
       "| (Intercept) | 1.412933 | 2.912748 | \n",
       "| nsites_train | 0.985652 | 1.338818 | \n",
       "\n",
       "\n"
      ],
      "text/plain": [
       "             2.5 %    97.5 %  \n",
       "(Intercept)  1.412933 2.912748\n",
       "nsites_train 0.985652 1.338818"
      ]
     },
     "metadata": {},
     "output_type": "display_data"
    }
   ],
   "source": [
    "# Intra - No Select - Regress\n",
    "\n",
    "glm101 = glm(hm~nsites_train, \n",
    "           family = quasibinomial,\n",
    "           data = data,\n",
    "           subset = data$intra == 1 & data$select == 0 & data$regression == 1, \n",
    "           weights = data$weight.norm)\n",
    "\n",
    "summary(glm101)\n",
    "exp(coefficients(glm101)) # odds ratio\n",
    "exp(confint(glm101))"
   ]
  },
  {
   "cell_type": "code",
   "execution_count": 32,
   "metadata": {
    "collapsed": false
   },
   "outputs": [
    {
     "data": {
      "text/plain": [
       "\n",
       "Call:\n",
       "glm(formula = hm ~ nsites_train, family = quasibinomial, data = data, \n",
       "    weights = data$weight.norm, subset = data$intra == 0 & data$select == \n",
       "        0 & data$regression == 1)\n",
       "\n",
       "Deviance Residuals: \n",
       "    Min       1Q   Median       3Q      Max  \n",
       "-2.1401  -1.2783   0.7406   0.8824   1.2562  \n",
       "\n",
       "Coefficients:\n",
       "             Estimate Std. Error t value Pr(>|t|)   \n",
       "(Intercept)   0.35615    0.13648   2.610  0.00914 **\n",
       "nsites_train  0.21055    0.07523   2.799  0.00519 **\n",
       "---\n",
       "Signif. codes:  0 ‘***’ 0.001 ‘**’ 0.01 ‘*’ 0.05 ‘.’ 0.1 ‘ ’ 1\n",
       "\n",
       "(Dispersion parameter for quasibinomial family taken to be 0.9991736)\n",
       "\n",
       "    Null deviance: 2141.2  on 1693  degrees of freedom\n",
       "Residual deviance: 2133.3  on 1692  degrees of freedom\n",
       "AIC: NA\n",
       "\n",
       "Number of Fisher Scoring iterations: 4\n"
      ]
     },
     "metadata": {},
     "output_type": "display_data"
    },
    {
     "data": {
      "text/html": [
       "<dl class=dl-horizontal>\n",
       "\t<dt>(Intercept)</dt>\n",
       "\t\t<dd>1.42781787554374</dd>\n",
       "\t<dt>nsites_train</dt>\n",
       "\t\t<dd>1.23436039964627</dd>\n",
       "</dl>\n"
      ],
      "text/latex": [
       "\\begin{description*}\n",
       "\\item[(Intercept)] 1.42781787554374\n",
       "\\item[nsites\\textbackslash{}\\_train] 1.23436039964627\n",
       "\\end{description*}\n"
      ],
      "text/markdown": [
       "(Intercept)\n",
       ":   1.42781787554374nsites_train\n",
       ":   1.23436039964627\n",
       "\n"
      ],
      "text/plain": [
       " (Intercept) nsites_train \n",
       "    1.427818     1.234360 "
      ]
     },
     "metadata": {},
     "output_type": "display_data"
    },
    {
     "name": "stderr",
     "output_type": "stream",
     "text": [
      "Waiting for profiling to be done...\n"
     ]
    },
    {
     "data": {
      "text/html": [
       "<table>\n",
       "<thead><tr><th></th><th scope=col>2.5 %</th><th scope=col>97.5 %</th></tr></thead>\n",
       "<tbody>\n",
       "\t<tr><th scope=row>(Intercept)</th><td>1.093134</td><td>1.866797</td></tr>\n",
       "\t<tr><th scope=row>nsites_train</th><td>1.065902</td><td>1.431675</td></tr>\n",
       "</tbody>\n",
       "</table>\n"
      ],
      "text/latex": [
       "\\begin{tabular}{r|ll}\n",
       "  & 2.5 \\% & 97.5 \\%\\\\\n",
       "\\hline\n",
       "\t(Intercept) & 1.093134 & 1.866797\\\\\n",
       "\tnsites\\_train & 1.065902 & 1.431675\\\\\n",
       "\\end{tabular}\n"
      ],
      "text/markdown": [
       "\n",
       "| <!--/--> | 2.5 % | 97.5 % | \n",
       "|---|---|\n",
       "| (Intercept) | 1.093134 | 1.866797 | \n",
       "| nsites_train | 1.065902 | 1.431675 | \n",
       "\n",
       "\n"
      ],
      "text/plain": [
       "             2.5 %    97.5 %  \n",
       "(Intercept)  1.093134 1.866797\n",
       "nsites_train 1.065902 1.431675"
      ]
     },
     "metadata": {},
     "output_type": "display_data"
    }
   ],
   "source": [
    "# Inter - No Select - Regress\n",
    "\n",
    "glm001 = glm(hm~nsites_train, \n",
    "           family = quasibinomial,\n",
    "           data = data,\n",
    "           subset = data$intra == 0 & data$select == 0 & data$regression == 1, \n",
    "           weights = data$weight.norm)\n",
    "\n",
    "summary(glm001)\n",
    "exp(coefficients(glm001)) # odds ratio\n",
    "exp(confint(glm001))"
   ]
  },
  {
   "cell_type": "code",
   "execution_count": 33,
   "metadata": {
    "collapsed": false
   },
   "outputs": [
    {
     "data": {
      "text/plain": [
       "\n",
       "Call:\n",
       "glm(formula = hm ~ nsites_train, family = quasibinomial, data = data, \n",
       "    weights = data$weight.norm, subset = data$intra == 1 & data$select == \n",
       "        0 & data$regression == 0)\n",
       "\n",
       "Deviance Residuals: \n",
       "    Min       1Q   Median       3Q      Max  \n",
       "-2.1380  -1.3126   0.7042   0.8583   1.1651  \n",
       "\n",
       "Coefficients:\n",
       "             Estimate Std. Error t value Pr(>|t|)    \n",
       "(Intercept)   0.63391    0.18041   3.514 0.000454 ***\n",
       "nsites_train  0.11683    0.07615   1.534 0.125167    \n",
       "---\n",
       "Signif. codes:  0 ‘***’ 0.001 ‘**’ 0.01 ‘*’ 0.05 ‘.’ 0.1 ‘ ’ 1\n",
       "\n",
       "(Dispersion parameter for quasibinomial family taken to be 0.9990306)\n",
       "\n",
       "    Null deviance: 2033.1  on 1693  degrees of freedom\n",
       "Residual deviance: 2030.7  on 1692  degrees of freedom\n",
       "AIC: NA\n",
       "\n",
       "Number of Fisher Scoring iterations: 4\n"
      ]
     },
     "metadata": {},
     "output_type": "display_data"
    },
    {
     "data": {
      "text/html": [
       "<dl class=dl-horizontal>\n",
       "\t<dt>(Intercept)</dt>\n",
       "\t\t<dd>1.88496245536625</dd>\n",
       "\t<dt>nsites_train</dt>\n",
       "\t\t<dd>1.12393357463713</dd>\n",
       "</dl>\n"
      ],
      "text/latex": [
       "\\begin{description*}\n",
       "\\item[(Intercept)] 1.88496245536625\n",
       "\\item[nsites\\textbackslash{}\\_train] 1.12393357463713\n",
       "\\end{description*}\n"
      ],
      "text/markdown": [
       "(Intercept)\n",
       ":   1.88496245536625nsites_train\n",
       ":   1.12393357463713\n",
       "\n"
      ],
      "text/plain": [
       " (Intercept) nsites_train \n",
       "    1.884962     1.123934 "
      ]
     },
     "metadata": {},
     "output_type": "display_data"
    },
    {
     "name": "stderr",
     "output_type": "stream",
     "text": [
      "Waiting for profiling to be done...\n"
     ]
    },
    {
     "data": {
      "text/html": [
       "<table>\n",
       "<thead><tr><th></th><th scope=col>2.5 %</th><th scope=col>97.5 %</th></tr></thead>\n",
       "<tbody>\n",
       "\t<tr><th scope=row>(Intercept)</th><td>1.3267300</td><td>2.692198 </td></tr>\n",
       "\t<tr><th scope=row>nsites_train</th><td>0.9677583</td><td>1.304596 </td></tr>\n",
       "</tbody>\n",
       "</table>\n"
      ],
      "text/latex": [
       "\\begin{tabular}{r|ll}\n",
       "  & 2.5 \\% & 97.5 \\%\\\\\n",
       "\\hline\n",
       "\t(Intercept) & 1.3267300 & 2.692198 \\\\\n",
       "\tnsites\\_train & 0.9677583 & 1.304596 \\\\\n",
       "\\end{tabular}\n"
      ],
      "text/markdown": [
       "\n",
       "| <!--/--> | 2.5 % | 97.5 % | \n",
       "|---|---|\n",
       "| (Intercept) | 1.3267300 | 2.692198  | \n",
       "| nsites_train | 0.9677583 | 1.304596  | \n",
       "\n",
       "\n"
      ],
      "text/plain": [
       "             2.5 %     97.5 %  \n",
       "(Intercept)  1.3267300 2.692198\n",
       "nsites_train 0.9677583 1.304596"
      ]
     },
     "metadata": {},
     "output_type": "display_data"
    }
   ],
   "source": [
    "# Intra - No Select - No Regress\n",
    "\n",
    "glm100 = glm(hm~nsites_train, \n",
    "           family = quasibinomial,\n",
    "           data = data,\n",
    "           subset = data$intra == 1 & data$select == 0 & data$regression == 0, \n",
    "           weights = data$weight.norm)\n",
    "\n",
    "summary(glm100)\n",
    "exp(coefficients(glm100)) # odds ratio\n",
    "exp(confint(glm100))"
   ]
  },
  {
   "cell_type": "code",
   "execution_count": 34,
   "metadata": {
    "collapsed": false
   },
   "outputs": [
    {
     "data": {
      "text/plain": [
       "\n",
       "Call:\n",
       "glm(formula = hm ~ nsites_train, family = quasibinomial, data = data, \n",
       "    weights = data$weight.norm, subset = data$intra == 0 & data$select == \n",
       "        0 & data$regression == 0)\n",
       "\n",
       "Deviance Residuals: \n",
       "    Min       1Q   Median       3Q      Max  \n",
       "-2.0164  -1.2797   0.8083   0.9091   1.2941  \n",
       "\n",
       "Coefficients:\n",
       "             Estimate Std. Error t value Pr(>|t|)   \n",
       "(Intercept)   0.34804    0.13404   2.597   0.0095 **\n",
       "nsites_train  0.14431    0.07324   1.970   0.0490 * \n",
       "---\n",
       "Signif. codes:  0 ‘***’ 0.001 ‘**’ 0.01 ‘*’ 0.05 ‘.’ 0.1 ‘ ’ 1\n",
       "\n",
       "(Dispersion parameter for quasibinomial family taken to be 0.9990156)\n",
       "\n",
       "    Null deviance: 2200.6  on 1693  degrees of freedom\n",
       "Residual deviance: 2196.6  on 1692  degrees of freedom\n",
       "AIC: NA\n",
       "\n",
       "Number of Fisher Scoring iterations: 4\n"
      ]
     },
     "metadata": {},
     "output_type": "display_data"
    },
    {
     "data": {
      "text/html": [
       "<dl class=dl-horizontal>\n",
       "\t<dt>(Intercept)</dt>\n",
       "\t\t<dd>1.41628551490295</dd>\n",
       "\t<dt>nsites_train</dt>\n",
       "\t\t<dd>1.15524488693959</dd>\n",
       "</dl>\n"
      ],
      "text/latex": [
       "\\begin{description*}\n",
       "\\item[(Intercept)] 1.41628551490295\n",
       "\\item[nsites\\textbackslash{}\\_train] 1.15524488693959\n",
       "\\end{description*}\n"
      ],
      "text/markdown": [
       "(Intercept)\n",
       ":   1.41628551490295nsites_train\n",
       ":   1.15524488693959\n",
       "\n"
      ],
      "text/plain": [
       " (Intercept) nsites_train \n",
       "    1.416286     1.155245 "
      ]
     },
     "metadata": {},
     "output_type": "display_data"
    },
    {
     "name": "stderr",
     "output_type": "stream",
     "text": [
      "Waiting for profiling to be done...\n"
     ]
    },
    {
     "data": {
      "text/html": [
       "<table>\n",
       "<thead><tr><th></th><th scope=col>2.5 %</th><th scope=col>97.5 %</th></tr></thead>\n",
       "<tbody>\n",
       "\t<tr><th scope=row>(Intercept)</th><td>1.089492</td><td>1.842861</td></tr>\n",
       "\t<tr><th scope=row>nsites_train</th><td>1.001269</td><td>1.334421</td></tr>\n",
       "</tbody>\n",
       "</table>\n"
      ],
      "text/latex": [
       "\\begin{tabular}{r|ll}\n",
       "  & 2.5 \\% & 97.5 \\%\\\\\n",
       "\\hline\n",
       "\t(Intercept) & 1.089492 & 1.842861\\\\\n",
       "\tnsites\\_train & 1.001269 & 1.334421\\\\\n",
       "\\end{tabular}\n"
      ],
      "text/markdown": [
       "\n",
       "| <!--/--> | 2.5 % | 97.5 % | \n",
       "|---|---|\n",
       "| (Intercept) | 1.089492 | 1.842861 | \n",
       "| nsites_train | 1.001269 | 1.334421 | \n",
       "\n",
       "\n"
      ],
      "text/plain": [
       "             2.5 %    97.5 %  \n",
       "(Intercept)  1.089492 1.842861\n",
       "nsites_train 1.001269 1.334421"
      ]
     },
     "metadata": {},
     "output_type": "display_data"
    }
   ],
   "source": [
    "# Inter - No Select - No Regress\n",
    "\n",
    "glm000 = glm(hm~nsites_train, \n",
    "           family = quasibinomial,\n",
    "           data = data,\n",
    "           subset = data$intra == 0 & data$select == 0 & data$regression == 0, \n",
    "           weights = data$weight.norm)\n",
    "\n",
    "summary(glm000)\n",
    "exp(coefficients(glm000)) # odds ratio\n",
    "exp(confint(glm000))"
   ]
  },
  {
   "cell_type": "code",
   "execution_count": 35,
   "metadata": {
    "collapsed": false
   },
   "outputs": [
    {
     "data": {
      "text/plain": [
       "\n",
       "Call:\n",
       "glm(formula = hm ~ nsites_train * intra, family = quasibinomial, \n",
       "    data = data, weights = data$weight.norm, subset = data$select == \n",
       "        1 & data$regression == 1)\n",
       "\n",
       "Deviance Residuals: \n",
       "    Min       1Q   Median       3Q      Max  \n",
       "-2.0698  -1.3045   0.7503   0.9010   1.2592  \n",
       "\n",
       "Coefficients:\n",
       "                   Estimate Std. Error t value Pr(>|t|)   \n",
       "(Intercept)         0.40596    0.13580   2.989  0.00282 **\n",
       "nsites_train        0.15477    0.07438   2.081  0.03751 * \n",
       "intra               0.41688    0.22425   1.859  0.06311 . \n",
       "nsites_train:intra -0.14307    0.10434  -1.371  0.17040   \n",
       "---\n",
       "Signif. codes:  0 ‘***’ 0.001 ‘**’ 0.01 ‘*’ 0.05 ‘.’ 0.1 ‘ ’ 1\n",
       "\n",
       "(Dispersion parameter for quasibinomial family taken to be 1.003264)\n",
       "\n",
       "    Null deviance: 4398.1  on 3507  degrees of freedom\n",
       "Residual deviance: 4387.4  on 3504  degrees of freedom\n",
       "AIC: NA\n",
       "\n",
       "Number of Fisher Scoring iterations: 4\n"
      ]
     },
     "metadata": {},
     "output_type": "display_data"
    },
    {
     "data": {
      "text/html": [
       "<dl class=dl-horizontal>\n",
       "\t<dt>(Intercept)</dt>\n",
       "\t\t<dd>1.50074249258714</dd>\n",
       "\t<dt>nsites_train</dt>\n",
       "\t\t<dd>1.16739162179575</dd>\n",
       "\t<dt>intra</dt>\n",
       "\t\t<dd>1.51722270966054</dd>\n",
       "\t<dt>nsites_train:intra</dt>\n",
       "\t\t<dd>0.866691920529553</dd>\n",
       "</dl>\n"
      ],
      "text/latex": [
       "\\begin{description*}\n",
       "\\item[(Intercept)] 1.50074249258714\n",
       "\\item[nsites\\textbackslash{}\\_train] 1.16739162179575\n",
       "\\item[intra] 1.51722270966054\n",
       "\\item[nsites\\textbackslash{}\\_train:intra] 0.866691920529553\n",
       "\\end{description*}\n"
      ],
      "text/markdown": [
       "(Intercept)\n",
       ":   1.50074249258714nsites_train\n",
       ":   1.16739162179575intra\n",
       ":   1.51722270966054nsites_train:intra\n",
       ":   0.866691920529553\n",
       "\n"
      ],
      "text/plain": [
       "       (Intercept)       nsites_train              intra nsites_train:intra \n",
       "         1.5007425          1.1673916          1.5172227          0.8666919 "
      ]
     },
     "metadata": {},
     "output_type": "display_data"
    },
    {
     "name": "stderr",
     "output_type": "stream",
     "text": [
      "Waiting for profiling to be done...\n"
     ]
    },
    {
     "data": {
      "text/html": [
       "<table>\n",
       "<thead><tr><th></th><th scope=col>2.5 %</th><th scope=col>97.5 %</th></tr></thead>\n",
       "<tbody>\n",
       "\t<tr><th scope=row>(Intercept)</th><td>1.1505711</td><td>1.959704 </td></tr>\n",
       "\t<tr><th scope=row>nsites_train</th><td>1.0096205</td><td>1.351560 </td></tr>\n",
       "\t<tr><th scope=row>intra</th><td>0.9791602</td><td>2.359049 </td></tr>\n",
       "\t<tr><th scope=row>nsites_train:intra</th><td>0.7059499</td><td>1.062780 </td></tr>\n",
       "</tbody>\n",
       "</table>\n"
      ],
      "text/latex": [
       "\\begin{tabular}{r|ll}\n",
       "  & 2.5 \\% & 97.5 \\%\\\\\n",
       "\\hline\n",
       "\t(Intercept) & 1.1505711 & 1.959704 \\\\\n",
       "\tnsites\\_train & 1.0096205 & 1.351560 \\\\\n",
       "\tintra & 0.9791602 & 2.359049 \\\\\n",
       "\tnsites\\_train:intra & 0.7059499 & 1.062780 \\\\\n",
       "\\end{tabular}\n"
      ],
      "text/markdown": [
       "\n",
       "| <!--/--> | 2.5 % | 97.5 % | \n",
       "|---|---|---|---|\n",
       "| (Intercept) | 1.1505711 | 1.959704  | \n",
       "| nsites_train | 1.0096205 | 1.351560  | \n",
       "| intra | 0.9791602 | 2.359049  | \n",
       "| nsites_train:intra | 0.7059499 | 1.062780  | \n",
       "\n",
       "\n"
      ],
      "text/plain": [
       "                   2.5 %     97.5 %  \n",
       "(Intercept)        1.1505711 1.959704\n",
       "nsites_train       1.0096205 1.351560\n",
       "intra              0.9791602 2.359049\n",
       "nsites_train:intra 0.7059499 1.062780"
      ]
     },
     "metadata": {},
     "output_type": "display_data"
    }
   ],
   "source": [
    "# Interaction (Intra x Inter) - Select - Regress\n",
    "\n",
    "glminter11 = glm(hm~nsites_train*intra, \n",
    "           family = quasibinomial,\n",
    "           data = data,\n",
    "           subset = data$select == 1 & data$regression == 1, \n",
    "           weights = data$weight.norm)\n",
    "\n",
    "summary(glminter11)\n",
    "exp(coefficients(glminter11)) # odds ratio\n",
    "exp(confint(glminter11))"
   ]
  },
  {
   "cell_type": "code",
   "execution_count": 36,
   "metadata": {
    "collapsed": false
   },
   "outputs": [
    {
     "data": {
      "text/plain": [
       "\n",
       "Call:\n",
       "glm(formula = hm ~ nsites_train * intra, family = quasibinomial, \n",
       "    data = data, weights = data$weight.norm, subset = data$select == \n",
       "        1 & data$regression == 0)\n",
       "\n",
       "Deviance Residuals: \n",
       "    Min       1Q   Median       3Q      Max  \n",
       "-2.0238  -1.2845   0.7776   0.8998   1.2810  \n",
       "\n",
       "Coefficients:\n",
       "                   Estimate Std. Error t value Pr(>|t|)   \n",
       "(Intercept)         0.40769    0.13438   3.034  0.00243 **\n",
       "nsites_train        0.11033    0.07322   1.507  0.13195   \n",
       "intra               0.21520    0.22009   0.978  0.32825   \n",
       "nsites_train:intra -0.05350    0.10246  -0.522  0.60160   \n",
       "---\n",
       "Signif. codes:  0 ‘***’ 0.001 ‘**’ 0.01 ‘*’ 0.05 ‘.’ 0.1 ‘ ’ 1\n",
       "\n",
       "(Dispersion parameter for quasibinomial family taken to be 1.003253)\n",
       "\n",
       "    Null deviance: 4491.7  on 3507  degrees of freedom\n",
       "Residual deviance: 4483.7  on 3504  degrees of freedom\n",
       "AIC: NA\n",
       "\n",
       "Number of Fisher Scoring iterations: 4\n"
      ]
     },
     "metadata": {},
     "output_type": "display_data"
    },
    {
     "data": {
      "text/html": [
       "<dl class=dl-horizontal>\n",
       "\t<dt>(Intercept)</dt>\n",
       "\t\t<dd>1.50333363351006</dd>\n",
       "\t<dt>nsites_train</dt>\n",
       "\t\t<dd>1.11665148152113</dd>\n",
       "\t<dt>intra</dt>\n",
       "\t\t<dd>1.24010656348629</dd>\n",
       "\t<dt>nsites_train:intra</dt>\n",
       "\t\t<dd>0.9479066095364</dd>\n",
       "</dl>\n"
      ],
      "text/latex": [
       "\\begin{description*}\n",
       "\\item[(Intercept)] 1.50333363351006\n",
       "\\item[nsites\\textbackslash{}\\_train] 1.11665148152113\n",
       "\\item[intra] 1.24010656348629\n",
       "\\item[nsites\\textbackslash{}\\_train:intra] 0.9479066095364\n",
       "\\end{description*}\n"
      ],
      "text/markdown": [
       "(Intercept)\n",
       ":   1.50333363351006nsites_train\n",
       ":   1.11665148152113intra\n",
       ":   1.24010656348629nsites_train:intra\n",
       ":   0.9479066095364\n",
       "\n"
      ],
      "text/plain": [
       "       (Intercept)       nsites_train              intra nsites_train:intra \n",
       "         1.5033336          1.1166515          1.2401066          0.9479066 "
      ]
     },
     "metadata": {},
     "output_type": "display_data"
    },
    {
     "name": "stderr",
     "output_type": "stream",
     "text": [
      "Waiting for profiling to be done...\n"
     ]
    },
    {
     "data": {
      "text/html": [
       "<table>\n",
       "<thead><tr><th></th><th scope=col>2.5 %</th><th scope=col>97.5 %</th></tr></thead>\n",
       "<tbody>\n",
       "\t<tr><th scope=row>(Intercept)</th><td>1.1557716</td><td>1.957631 </td></tr>\n",
       "\t<tr><th scope=row>nsites_train</th><td>0.9677984</td><td>1.289722 </td></tr>\n",
       "\t<tr><th scope=row>intra</th><td>0.8065394</td><td>1.911671 </td></tr>\n",
       "\t<tr><th scope=row>nsites_train:intra</th><td>0.7750634</td><td>1.158261 </td></tr>\n",
       "</tbody>\n",
       "</table>\n"
      ],
      "text/latex": [
       "\\begin{tabular}{r|ll}\n",
       "  & 2.5 \\% & 97.5 \\%\\\\\n",
       "\\hline\n",
       "\t(Intercept) & 1.1557716 & 1.957631 \\\\\n",
       "\tnsites\\_train & 0.9677984 & 1.289722 \\\\\n",
       "\tintra & 0.8065394 & 1.911671 \\\\\n",
       "\tnsites\\_train:intra & 0.7750634 & 1.158261 \\\\\n",
       "\\end{tabular}\n"
      ],
      "text/markdown": [
       "\n",
       "| <!--/--> | 2.5 % | 97.5 % | \n",
       "|---|---|---|---|\n",
       "| (Intercept) | 1.1557716 | 1.957631  | \n",
       "| nsites_train | 0.9677984 | 1.289722  | \n",
       "| intra | 0.8065394 | 1.911671  | \n",
       "| nsites_train:intra | 0.7750634 | 1.158261  | \n",
       "\n",
       "\n"
      ],
      "text/plain": [
       "                   2.5 %     97.5 %  \n",
       "(Intercept)        1.1557716 1.957631\n",
       "nsites_train       0.9677984 1.289722\n",
       "intra              0.8065394 1.911671\n",
       "nsites_train:intra 0.7750634 1.158261"
      ]
     },
     "metadata": {},
     "output_type": "display_data"
    }
   ],
   "source": [
    "# Interaction (Intra x Inter) - Select - No Regress\n",
    "\n",
    "glminter10 = glm(hm~nsites_train*intra, \n",
    "           family = quasibinomial,\n",
    "           data = data,\n",
    "           subset = data$select == 1 & data$regression == 0, \n",
    "           weights = data$weight.norm)\n",
    "\n",
    "summary(glminter10)\n",
    "exp(coefficients(glminter10)) # odds ratio\n",
    "exp(confint(glminter10))"
   ]
  },
  {
   "cell_type": "code",
   "execution_count": null,
   "metadata": {
    "collapsed": true
   },
   "outputs": [],
   "source": []
  }
 ],
 "metadata": {
  "kernelspec": {
   "display_name": "R",
   "language": "R",
   "name": "ir"
  },
  "language_info": {
   "codemirror_mode": "r",
   "file_extension": ".r",
   "mimetype": "text/x-r-source",
   "name": "R",
   "pygments_lexer": "r",
   "version": "3.3.2"
  }
 },
 "nbformat": 4,
 "nbformat_minor": 2
}
